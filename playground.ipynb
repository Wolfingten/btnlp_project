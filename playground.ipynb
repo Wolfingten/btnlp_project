{
 "cells": [
  {
   "cell_type": "code",
   "execution_count": 1,
   "metadata": {},
   "outputs": [],
   "source": [
    "import pandas as pd"
   ]
  },
  {
   "cell_type": "code",
   "execution_count": 2,
   "metadata": {},
   "outputs": [
    {
     "name": "stderr",
     "output_type": "stream",
     "text": [
      "/home/wolfingten/.python_environments/ML/lib/python3.11/site-packages/torch/cuda/__init__.py:628: UserWarning: Can't initialize NVML\n",
      "  warnings.warn(\"Can't initialize NVML\")\n",
      "/home/wolfingten/.python_environments/ML/lib/python3.11/site-packages/transformers/utils/generic.py:441: UserWarning: torch.utils._pytree._register_pytree_node is deprecated. Please use torch.utils._pytree.register_pytree_node instead.\n",
      "  _torch_pytree._register_pytree_node(\n",
      "/home/wolfingten/.python_environments/ML/lib/python3.11/site-packages/transformers/utils/generic.py:309: UserWarning: torch.utils._pytree._register_pytree_node is deprecated. Please use torch.utils._pytree.register_pytree_node instead.\n",
      "  _torch_pytree._register_pytree_node(\n",
      "[nltk_data] Downloading package vader_lexicon to\n",
      "[nltk_data]     /home/wolfingten/nltk_data...\n",
      "[nltk_data]   Package vader_lexicon is already up-to-date!\n"
     ]
    }
   ],
   "source": [
    "from btnlp_lib import SentimentAnalyzer"
   ]
  },
  {
   "cell_type": "code",
   "execution_count": 3,
   "metadata": {},
   "outputs": [],
   "source": [
    "train_df = pd.read_csv(\n",
    "    \"../data/twitter_training.csv\",\n",
    "    names=[\"ID\", \"platform\", \"sentiment\", \"comment\"],\n",
    "    na_values=[\"<unk>\"],\n",
    "    dtype={\"comment\": str},\n",
    ")\n",
    "valid_df = pd.read_csv(\n",
    "    \"../data/twitter_validation.csv\",\n",
    "    names=[\"ID\", \"platform\", \"sentiment\", \"comment\"],\n",
    "    na_values=[\"<unk>\"],\n",
    "    dtype={\"comment\": str},\n",
    ")"
   ]
  },
  {
   "cell_type": "code",
   "execution_count": 4,
   "metadata": {},
   "outputs": [],
   "source": [
    "analyzer = SentimentAnalyzer(train_df, valid_df)"
   ]
  },
  {
   "cell_type": "code",
   "execution_count": 5,
   "metadata": {},
   "outputs": [
    {
     "name": "stdout",
     "output_type": "stream",
     "text": [
      "      ID     platform sentiment  \\\n",
      "0   2401  Borderlands  Positive   \n",
      "6   2402  Borderlands  Positive   \n",
      "12  2403  Borderlands   Neutral   \n",
      "18  2404  Borderlands  Positive   \n",
      "24  2405  Borderlands  Negative   \n",
      "\n",
      "                                              comment  \n",
      "0   im getting on borderlands and i will murder yo...  \n",
      "6   So I spent a few hours making something for fu...  \n",
      "12  Rock-Hard La Varlope, RARE & POWERFUL, HANDSOM...  \n",
      "18  that was the first borderlands session in a lo...  \n",
      "24  the biggest dissappoinment in my life came out...  \n",
      "                 ID\n",
      "count  12447.000000\n",
      "mean    6432.586165\n",
      "std     3740.553090\n",
      "min        1.000000\n",
      "25%     3195.500000\n",
      "50%     6422.000000\n",
      "75%     9600.500000\n",
      "max    13200.000000\n"
     ]
    },
    {
     "data": {
      "image/png": "[encoded data removed]",
      "text/plain": [
       "<Figure size 640x480 with 1 Axes>"
      ]
     },
     "metadata": {},
     "output_type": "display_data"
    }
   ],
   "source": [
    "analyzer.summarize(\"sentiment\")"
   ]
  },
  {
   "cell_type": "code",
   "execution_count": 6,
   "metadata": {},
   "outputs": [],
   "source": [
    "analyzer.numerize_labels(\"sentiment\")"
   ]
  },
  {
   "cell_type": "code",
   "execution_count": 7,
   "metadata": {},
   "outputs": [
    {
     "name": "stdout",
     "output_type": "stream",
     "text": [
      "tokenizing column comment\n",
      "\n",
      "train df:\n",
      "\n"
     ]
    },
    {
     "name": "stderr",
     "output_type": "stream",
     "text": [
      "100%|██████████| 10282/10282 [00:13<00:00, 738.20it/s]\n"
     ]
    },
    {
     "name": "stdout",
     "output_type": "stream",
     "text": [
      "validation df: \n",
      "\n"
     ]
    },
    {
     "name": "stderr",
     "output_type": "stream",
     "text": [
      "100%|██████████| 828/828 [00:01<00:00, 560.51it/s]\n"
     ]
    }
   ],
   "source": [
    "\n",
    "analyzer.tokenize(\"comment\")"
   ]
  },
  {
   "cell_type": "code",
   "execution_count": 8,
   "metadata": {},
   "outputs": [
    {
     "name": "stdout",
     "output_type": "stream",
     "text": [
      "              precision    recall  f1-score   support\n",
      "\n",
      "          -1       0.47      0.33      0.39       265\n",
      "           0       0.34      0.47      0.40       285\n",
      "           1       0.55      0.51      0.53       277\n",
      "\n",
      "    accuracy                           0.44       827\n",
      "   macro avg       0.46      0.43      0.44       827\n",
      "weighted avg       0.45      0.44      0.44       827\n",
      "\n"
     ]
    },
    {
     "data": {
      "text/plain": [
       "array([[ 87, 143,  35],\n",
       "       [ 72, 133,  80],\n",
       "       [ 26, 110, 141]])"
      ]
     },
     "execution_count": 8,
     "metadata": {},
     "output_type": "execute_result"
    }
   ],
   "source": [
    "analyzer.vader_sentiment(\"comment_tokenized\")"
   ]
  },
  {
   "cell_type": "code",
   "execution_count": 9,
   "metadata": {},
   "outputs": [
    {
     "name": "stdout",
     "output_type": "stream",
     "text": [
      "              precision    recall  f1-score   support\n",
      "\n",
      "          -1       0.52      0.13      0.21       265\n",
      "           0       0.36      0.82      0.50       285\n",
      "           1       0.60      0.23      0.33       277\n",
      "\n",
      "    accuracy                           0.40       827\n",
      "   macro avg       0.49      0.39      0.34       827\n",
      "weighted avg       0.49      0.40      0.35       827\n",
      "\n"
     ]
    },
    {
     "data": {
      "text/plain": [
       "array([[ 34, 219,  12],\n",
       "       [ 21, 234,  30],\n",
       "       [ 11, 203,  63]])"
      ]
     },
     "execution_count": 9,
     "metadata": {},
     "output_type": "execute_result"
    }
   ],
   "source": [
    "analyzer.textblob_sentiment(\"comment_tokenized\")"
   ]
  },
  {
   "cell_type": "code",
   "execution_count": 10,
   "metadata": {},
   "outputs": [
    {
     "name": "stderr",
     "output_type": "stream",
     "text": [
      "Some weights of the model checkpoint at cardiffnlp/twitter-roberta-base-sentiment-latest were not used when initializing RobertaForSequenceClassification: ['roberta.pooler.dense.weight', 'roberta.pooler.dense.bias']\n",
      "- This IS expected if you are initializing RobertaForSequenceClassification from the checkpoint of a model trained on another task or with another architecture (e.g. initializing a BertForSequenceClassification model from a BertForPreTraining model).\n",
      "- This IS NOT expected if you are initializing RobertaForSequenceClassification from the checkpoint of a model that you expect to be exactly identical (initializing a BertForSequenceClassification model from a BertForSequenceClassification model).\n",
      "100%|██████████| 827/827 [00:32<00:00, 25.73it/s]\n"
     ]
    },
    {
     "name": "stdout",
     "output_type": "stream",
     "text": [
      "              precision    recall  f1-score   support\n",
      "\n",
      "          -1       0.58      0.76      0.66       265\n",
      "           0       0.57      0.39      0.46       285\n",
      "           1       0.68      0.71      0.69       277\n",
      "\n",
      "    accuracy                           0.61       827\n",
      "   macro avg       0.61      0.62      0.60       827\n",
      "weighted avg       0.61      0.61      0.60       827\n",
      "\n"
     ]
    },
    {
     "data": {
      "text/plain": [
       "array([[201,  46,  18],\n",
       "       [ 99, 110,  76],\n",
       "       [ 44,  36, 197]])"
      ]
     },
     "execution_count": 10,
     "metadata": {},
     "output_type": "execute_result"
    }
   ],
   "source": [
    "analyzer.huggingface_sentiment(\"comment_tokenized\")"
   ]
  },
  {
   "cell_type": "code",
   "execution_count": 11,
   "metadata": {},
   "outputs": [
    {
     "data": {
      "text/html": [
       "<div>\n",
       "<style scoped>\n",
       "    .dataframe tbody tr th:only-of-type {\n",
       "        vertical-align: middle;\n",
       "    }\n",
       "\n",
       "    .dataframe tbody tr th {\n",
       "        vertical-align: top;\n",
       "    }\n",
       "\n",
       "    .dataframe thead th {\n",
       "        text-align: right;\n",
       "    }\n",
       "</style>\n",
       "<table border=\"1\" class=\"dataframe\">\n",
       "  <thead>\n",
       "    <tr style=\"text-align: right;\">\n",
       "      <th></th>\n",
       "      <th>ID</th>\n",
       "      <th>platform</th>\n",
       "      <th>sentiment</th>\n",
       "      <th>comment</th>\n",
       "      <th>sentiment_numerized</th>\n",
       "      <th>comment_tokenized</th>\n",
       "      <th>vader_sentiment</th>\n",
       "      <th>textblob_sentiment</th>\n",
       "      <th>huggingface_sentiment</th>\n",
       "    </tr>\n",
       "  </thead>\n",
       "  <tbody>\n",
       "    <tr>\n",
       "      <th>1</th>\n",
       "      <td>352</td>\n",
       "      <td>Amazon</td>\n",
       "      <td>Neutral</td>\n",
       "      <td>BBC News - Amazon boss Jeff Bezos rejects clai...</td>\n",
       "      <td>0</td>\n",
       "      <td>bbc news amazon boss jeff bezos rejects claims...</td>\n",
       "      <td>0</td>\n",
       "      <td>0</td>\n",
       "      <td>0</td>\n",
       "    </tr>\n",
       "    <tr>\n",
       "      <th>2</th>\n",
       "      <td>8312</td>\n",
       "      <td>Microsoft</td>\n",
       "      <td>Negative</td>\n",
       "      <td>@Microsoft Why do I pay for WORD when it funct...</td>\n",
       "      <td>-1</td>\n",
       "      <td>user pay word functions poorly samsungus chrom...</td>\n",
       "      <td>0</td>\n",
       "      <td>0</td>\n",
       "      <td>-1</td>\n",
       "    </tr>\n",
       "    <tr>\n",
       "      <th>3</th>\n",
       "      <td>4371</td>\n",
       "      <td>CS-GO</td>\n",
       "      <td>Negative</td>\n",
       "      <td>CSGO matchmaking is so full of closet hacking,...</td>\n",
       "      <td>-1</td>\n",
       "      <td>csgo matchmaking full closet hacking truly awf...</td>\n",
       "      <td>0</td>\n",
       "      <td>0</td>\n",
       "      <td>-1</td>\n",
       "    </tr>\n",
       "    <tr>\n",
       "      <th>4</th>\n",
       "      <td>4433</td>\n",
       "      <td>Google</td>\n",
       "      <td>Neutral</td>\n",
       "      <td>Now the President is slapping Americans in the...</td>\n",
       "      <td>0</td>\n",
       "      <td>president slapping americans face really commi...</td>\n",
       "      <td>0</td>\n",
       "      <td>0</td>\n",
       "      <td>-1</td>\n",
       "    </tr>\n",
       "    <tr>\n",
       "      <th>5</th>\n",
       "      <td>6273</td>\n",
       "      <td>FIFA</td>\n",
       "      <td>Negative</td>\n",
       "      <td>Hi @EAHelp I’ve had Madeleine McCann in my cel...</td>\n",
       "      <td>-1</td>\n",
       "      <td>hi eahelp ive madeleine mccann cellar past 13 ...</td>\n",
       "      <td>0</td>\n",
       "      <td>0</td>\n",
       "      <td>-1</td>\n",
       "    </tr>\n",
       "  </tbody>\n",
       "</table>\n",
       "</div>"
      ],
      "text/plain": [
       "     ID   platform sentiment  \\\n",
       "1   352     Amazon   Neutral   \n",
       "2  8312  Microsoft  Negative   \n",
       "3  4371      CS-GO  Negative   \n",
       "4  4433     Google   Neutral   \n",
       "5  6273       FIFA  Negative   \n",
       "\n",
       "                                             comment  sentiment_numerized  \\\n",
       "1  BBC News - Amazon boss Jeff Bezos rejects clai...                    0   \n",
       "2  @Microsoft Why do I pay for WORD when it funct...                   -1   \n",
       "3  CSGO matchmaking is so full of closet hacking,...                   -1   \n",
       "4  Now the President is slapping Americans in the...                    0   \n",
       "5  Hi @EAHelp I’ve had Madeleine McCann in my cel...                   -1   \n",
       "\n",
       "                                   comment_tokenized  vader_sentiment  \\\n",
       "1  bbc news amazon boss jeff bezos rejects claims...                0   \n",
       "2  user pay word functions poorly samsungus chrom...                0   \n",
       "3  csgo matchmaking full closet hacking truly awf...                0   \n",
       "4  president slapping americans face really commi...                0   \n",
       "5  hi eahelp ive madeleine mccann cellar past 13 ...                0   \n",
       "\n",
       "   textblob_sentiment  huggingface_sentiment  \n",
       "1                   0                      0  \n",
       "2                   0                     -1  \n",
       "3                   0                     -1  \n",
       "4                   0                     -1  \n",
       "5                   0                     -1  "
      ]
     },
     "execution_count": 11,
     "metadata": {},
     "output_type": "execute_result"
    }
   ],
   "source": [
    "view_df = analyzer.valid_df\n",
    "view_df.head()"
   ]
  },
  {
   "cell_type": "code",
   "execution_count": 12,
   "metadata": {},
   "outputs": [
    {
     "data": {
      "text/plain": [
       "{'negative': 0, 'neutral': 1, 'positive': 2}"
      ]
     },
     "execution_count": 12,
     "metadata": {},
     "output_type": "execute_result"
    }
   ],
   "source": [
    "from transformers import AutoConfig\n",
    "\n",
    "config = AutoConfig.from_pretrained(\"cardiffnlp/twitter-roberta-base-sentiment-latest\")\n",
    "config.label2id"
   ]
  }
 ],
 "metadata": {
  "kernelspec": {
   "display_name": "ML",
   "language": "python",
   "name": "ml"
  },
  "language_info": {
   "codemirror_mode": {
    "name": "ipython",
    "version": 3
   },
   "file_extension": ".py",
   "mimetype": "text/x-python",
   "name": "python",
   "nbconvert_exporter": "python",
   "pygments_lexer": "ipython3",
   "version": "3.11.2"
  }
 },
 "nbformat": 4,
 "nbformat_minor": 2
}
